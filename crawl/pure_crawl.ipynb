{
 "cells": [
  {
   "cell_type": "code",
   "execution_count": 9,
   "metadata": {},
   "outputs": [
    {
     "name": "stdout",
     "output_type": "stream",
     "text": [
      "<!DOCTYPE html><html lang=\"en-US\"><head><title>Just a moment...</title><meta http-equiv=\"Content-Type\" content=\"text/html; charset=UTF-8\"><meta http-equiv=\"X-UA-Compatible\" content=\"IE=Edge\"><meta name=\"robots\" content=\"noindex,nofollow\"><meta name=\"viewport\" content=\"width=device-width,initial-scale=1\"><style>*{box-sizing:border-box;margin:0;padding:0}html{line-height:1.15;-webkit-text-size-adjust:100%;color:#313131;font-family:system-ui,-apple-system,BlinkMacSystemFont,Segoe UI,Roboto,Helvetica Neue,Arial,Noto Sans,sans-serif,Apple Color Emoji,Segoe UI Emoji,Segoe UI Symbol,Noto Color Emoji}body{display:flex;flex-direction:column;height:100vh;min-height:100vh}.main-content{margin:8rem auto;max-width:60rem;padding-left:1.5rem}@media (width <= 720px){.main-content{margin-top:4rem}}.h2{font-size:1.5rem;font-weight:500;line-height:2.25rem}@media (width <= 720px){.h2{font-size:1.25rem;line-height:1.5rem}}#challenge-error-text{background-image:url(data:image/svg+xml;base64,PHN2ZyB4bWxucz0iaHR0cDovL3d3dy53My5vcmcvMjAwMC9zdmciIHdpZHRoPSIzMiIgaGVpZ2h0PSIzMiIgZmlsbD0ibm9uZSI+PHBhdGggZmlsbD0iI0IyMEYwMyIgZD0iTTE2IDNhMTMgMTMgMCAxIDAgMTMgMTNBMTMuMDE1IDEzLjAxNSAwIDAgMCAxNiAzbTAgMjRhMTEgMTEgMCAxIDEgMTEtMTEgMTEuMDEgMTEuMDEgMCAwIDEtMTEgMTEiLz48cGF0aCBmaWxsPSIjQjIwRjAzIiBkPSJNMTcuMDM4IDE4LjYxNUgxNC44N0wxNC41NjMgOS41aDIuNzgzem0tMS4wODQgMS40MjdxLjY2IDAgMS4wNTcuMzg4LjQwNy4zODkuNDA3Ljk5NCAwIC41OTYtLjQwNy45ODQtLjM5Ny4zOS0xLjA1Ny4zODktLjY1IDAtMS4wNTYtLjM4OS0uMzk4LS4zODktLjM5OC0uOTg0IDAtLjU5Ny4zOTgtLjk4NS40MDYtLjM5NyAxLjA1Ni0uMzk3Ii8+PC9zdmc+);background-repeat:no-repeat;background-size:contain;padding-left:34px}@media (prefers-color-scheme:dark){body{background-color:#222;color:#d9d9d9}}</style><meta http-equiv=\"refresh\" content=\"390\"></head><body class=\"no-js\"><div class=\"main-wrapper\" role=\"main\"><div class=\"main-content\"><noscript><div class=\"h2\"><span id=\"challenge-error-text\">Enable JavaScript and cookies to continue</span></div></noscript></div></div><script>(function(){window._cf_chl_opt={cvId: '3',cZone: \"pure.kaist.ac.kr\",cType: 'managed',cRay: '913a613bfbf1d1df',cH: 'mSE9_Y9MHeVpiD_1xtuRBNjXzbEfLSymZ0rdWoBhj3A-1739843568-1.2.1.1-j2CWmdY9SNmmzVvvwboeZLVrZe8204mooHhceEYqAc3lcJl5ybLeYpo5BS_tKZ8W',cUPMDTk: \"\\/en\\/persons\\/?__cf_chl_tk=dE3Up00eXqxz1GFqt2zVas7Pzydo3T1GDSE2JtMZf.Q-1739843568-1.0.1.1-ke3LH8WokVJgCgRInI1vYpSYreNi18r7x48aCQ4.R1E\",cFPWv: 'g',cITimeS: '1739843568',cTTimeMs: '1000',cMTimeMs: '390000',cTplC: 0,cTplV: 5,cTplB: 'cf',cK: \"\",fa: \"\\/en\\/persons\\/?__cf_chl_f_tk=dE3Up00eXqxz1GFqt2zVas7Pzydo3T1GDSE2JtMZf.Q-1739843568-1.0.1.1-ke3LH8WokVJgCgRInI1vYpSYreNi18r7x48aCQ4.R1E\",md: \"NxY9TxGfr7NO947NunkPIriLAO0P6tKhKtHN8rg3zP0-1739843568-1.2.1.1-Zm_4wjNo0ov7K8wAdzIu98Rf.C6KS88qb77pcAf7JCCTbd5aY2RFtQrpHQCY6B.0tT1SiXbTG9amyJKQrm3etWilA57D9UwraAx8o5l3HgO52Dpuay5YOFu_ya0ic2eZ3vizDSXbdoVbAW2bl2fwLuCwg0qzx9ubxsm1Aq52oyYvzv3EQa1yx97meA9po10RlZ8ZyRLFAmG1dRy_7QKJRTvG.WIAcNWWjyYlrN.faQTCJ5W2JfHlJPFAMnHSgLvpyqj6uWhrGyrTMqRGr.Ld.L4.n3SprkV6b3pxkEi2XXtINqfUQsnuJ93kYa1LjKPJGdVwp5477pGNagsxlvjheyTnE.S4cGZ.du_S2ttcQjZpf0EAq1CNTfyDoUoGcuKoVYxOtVTzukvBUrhylKd.jryh33Ky4.qtSusBkxG2I12MosGiJZ1FlyEa8GHiDh.gyE.cZSgRt4Zy4jC9iEIxzNTNwl1T29XwZf9sh37y_u4Jgbx2XqA1k4b1FwBdvwD91KFi3Bq7ExbU4KhIdsSEk8w80COp28jsa_6g9fbP7oXlb_m3r5PzgUsmfN8Nfjp9TrBdMw.sL.WaD5sx6Uj0w80ctgvsDBgssFTIAU3kM.7DP0VZdJQjr0YaEbbjZumUNtw6kKomgCGL_xPhEc02hcd6WHMvu7UfoLReurj_09HumtBnu.VJ93WBoeK0nVNMkBfMsTwubrCrOu5RQ.A1d0SuzSUz4dbbA.Dx8sDYUCmhMZdE1o8Y4bRF7P1xDoNZgA_yTQcg9mfzWGTzuy2Rh.lZhzFUJebRwL4K1SOlyF1xnmlQxE2n2oUwVS3gtGJU8UPA8uDjdt60tdx2soKFV86LedeBAge3YLl7FzNdbbtKH4gycjZ9Q3h6o_UIcJuuuw8.K9J.83ZFgT_TTTP3sLLSe.L_iM7lUhVNao8vFT3x1GIBxhJ7VFRfgzlohSBUE.Mxls6hGBhtmjCJy_zMhpA0Mq3Tj.UAgcBheqOspzjTaahSHmFn8suVGSxpet9nWJOMeHXrBiwSuZZ_MOPzBRExvIA0zZ1hhNIhqA3p2...WByw02DHd6QZCoMrTcUvLFr6yIz_Wrx4evpp.loktIXWGM.LJO9erk1y_D9Vh9vGBB1vgbgfL.4TuvWHbr4c7xNuK.JmijqoCHcUpaz_aHgkU96YsGTXYvBAU7b2gVPZ3wBnVpRm9c1uiDbv98y4dXcY_7ZzQMZp3h4jiobkCUSTTVhIuxYbyU1Q3XRjMA6TWJG1L0IEM43UMYy4z7N.UH4YlW2pn.LvVSbgZyHzJSrk46C8BMwbX1qrkSXcTxQumfN.Wm4mftCD99KT6O2Uapo9.Tus.SkYJKTA7I5Af4lQqS80ICdfCLQ3WooNdO7Zwky7zRTwA27IrBLQg6aB0tKVShcc31Ws4ox3SJqrklXnfhjgPQbFwG8gUMozCO_DcxrM53I2BsEmOGBeFcDsflLL43uJESk.nEm.WROYLXnvR6_E8oCUp8QQq7T8.2U9RX8tGWJmvEjrp_MHnxeD26KAVmVblNwcn0I1f_IM48NCINkIRjYvd1TuKoadJSH2PTxmW3l9NSbR23tjOr1BIsgyPyoBwquc2CxJPtLLyYoqMF5v_BkpqUZaO1iB7S4OwlR7dB5Jfr0hkFPvsQHm1U.HoZhBtxeUdbOhyvc9MhEwk9RURdpCXe1ZXcHCqPScF6ltQo.04Sij9EmgrcL9JhAXRzpmlmwP3uOMPVgvsJc2VN3kfZE5YlFZ7aP_zIlkXVue4L2DlSzsYupwam_wpZ85FznJJXVJq.vcjY3gt7CmFqbHOh7XMzsygPlm_rUTo.BYJ6cGPisF_PFgIGQdqE8YeGy44mZBuyZhrYWU.vGD7rqJngDHAtzAEv3hYRUVfqQNZefjJ4PHbN_lpHcQK3pWm3X9YqfrH8In8i9_u2P8lq1QXP0mAc3Gwyz5NJUtcGd0qO0oufMh.Pcura0BgKTgg_7jqnhaxEgOAMzRSJNr3_mIfxmjBPyNMMyjxr0ER4H87qL73W4rouMjXVjdWxlBtAj5Kb9RLQaJj7t9tP69gB4zwr4iXls7C2nt2brY8Zsq35hDcEjdI1rr9lg6K.i1Q2FM1t9.IPXwvma43yf9cVUA0Jli2qQdWsdOxOQn4gJa83.sMpnmGwq1Jnr9nkaQClILeKGIEbdOhS1IE7MXHupH7kETpVZ0X1Z0Rpr7Oi4eOkbmCmXMaSCXfLfAmrjAv5Yx0ZPG7_yFyeEr_dVmiw7_DMofPrk2jQ1OR9DArIsYBGicQHHGjlwYN8DT9o3H4EQ76RWVfBvo47svjgphKhtHJSSEH.M8jaPdshvs.tgOvVU7wonfWrFVsmEojDngRREfPybmRFskxcdtCU0PU3aSIjHPJn3VA_wgdAp2oJFhU.J7QytnqSx.E7vcGSXLfD3WTWqBan7w0u7TE4FJeoWWIoAPzXKIuVOM5bMq3wZP4jgrMUS9kV_V16f7\",mdrd: \"FZJFNdbJhoDqVLDRTJnTerZnFPUHuIHagveuoXnTgYI-1739843568-1.2.1.1-AsF6Joda7K7V74d.NctvD60SQeeytU2NtfYbFaIUohnAERPgDSJHbtF4TxuuaYEqrjpOyGQuZMO4ylIu.ViNwAgfs7sWBrJ4uKdkNsT_wDuozsl1hpn_TQ_Y1v2BTAwkbQ.JGUmEY8pw5YyCGNssFJi4OvIc6kwr5VPs90k6eCKVXtlDWYjhTblfxcmtpnI3idXEOlVx6z8JfEa7yVj11FfWQKsPAY3bZNNmxMPzKWP.OzdT9unKMuaA2ZnVpa5GTn_sf28aTSARb8W3E3.ZVioKvW4RfUa_BR2DsccTWWV3Dis3NjvDERV0Xn.ey1bNgnqdhNSevSLXG8oHdUaAFUJfLBCGtGS7i.48ppHy_KOFat6jUIUNXGHbI2NBp4dj4d7Qf0NOGWtV_uBBOwfeHG3Dbrp9fXpSt1GufgYTodr71oZ.GecS8Ki4rxrGRpJL7S95b0.XpBbiDDKjvBJ3TYkqYVxuqek2h8mDX4QKiL1JqGQ8wckrCZ6m0bY6FuIEzCBSdg7nKWpC2kdwVWLTHQdSQ8j0OrGFoMTRfxYyMXB9nkJ52EOazI3WdLwrCNmYdhiaWS5474evKgGouanxZj1nK4PegZSbSBzOpPVSbDejWhXaBwBkgamRULTymbJ1cRulRNwvFy229xcLWagTxD_8BM4qp6yo1eiwf1r62gQu8..ZnLAxr1VTn4oitBcWFxtoNdbVtWJJi8uuEgscsa2LoMsnDV6AqPH5TfhN3XKhjIzFBbExy1khNUDN43tmTO47RUEY_ONCaCS0fXobQ.vYkyb.coPcIH4O6ypkdPtDqwnvnQ92M9T.oBWq1ppZGGiTQrEoiVHvaU1lbKEwJoPWvx25wB0BqgOntu74q9p3KqH45FPMN6ph98nD_FsS7wKz2CCbTZWZ7.1sof69.UZIpn09gC28.42n_Cq3rb3OE9XeZQCEThLY8zA9vKwjcvaQJrtAqAdIY29t_xfe8D6ZlwTKJbIW3EokwpUyBz6wNfIo2dFBx5SQzQN9oEP8EhI0dWC31oSvk6_d_cDJBqHwIds4K320O4C6c8LC6eqUCJ6u6F0iJtXE19HTiToo7ICn3Z91oM_WAEkKi2GOucUi.W_Asr1hutoiEA0f.RctoVnBQaTFSANH8tJsz7pf5BWwO5MTSR3GrBtEg.o3yK49jHcoUzxzsSxyfU3mGIN3KoQYRLqep5O0icqnyWWQo424wCn0lvZKjni9PfBolLtH4T2lbg.WRrkx_q9WiOizQtuJ42x_Ki_gWBWHIzLXyajFQY9UOSQDu_DCrWXZ3PiGuPC.XuUoD3M3zCoOWEHz8DBFItQb2bkB4gSo3alLjtZqpsvheyJkuaV..fGZycCKDSrmoysvKA80_8QDD7QtqkhlLeZl7Ya7x6pUNuDGKA3sRFWx6ePqLKEoL2MTYpsxsL.wv0Ljjdw_UAikARcajo64n1w7eyvBcnb_ExYa_1om6FvE2NnC5YXaWF8VugyqgxtxOJVkOGJZkAaZBqxKJhi1oQc3Fvk8AH45WkGGB.vWFojIgcFhKPnEDAPAY5oW_0NoTrDIPdNdZn8UTEkcI7k_2iUzAWpU55B5sFEp2G0Sne13KCAp55NJ.dCTE_RmL_pVDpJfZD5slwqBTMdeAofaotFicpd8qJ8.n7y2lnbQzh88bi6zGpoJDEYKVbSPOWlZtaTV_JhSkWpuGzTmXnozVYpXS_EMU5Aqv7vr0XrBpiNytMRSOYB5Xd4N.0TZpwsGxqQiw84osyh49VabznVDRIuarwEYGO1q8forCb5vHlWc0LDzhKjbAU75QpodvSMBPSBRtFiaTI15Rl5CSMlo8NGe51uljZGUYFrNsdHQuyEMsIzbNhR_G_YoLofzygFqGADpQuo1ZwqtvfK_OcQ7GkMWgzk6RGp6MREhQbBzXuaOAMGrJYegjf3kAkcpQZe6YX.oEtxGXyyjfRSx2eC4kCc5zvzsVKHbc07Abu4c_dBO.SlcTYOeXt_iChlOTy3WhLLcDMFIZOoVievkc89TzcwGlJASmE1ewNx.bWFhUsD.YRqDFJeovlN8UmN2v3N1kXQZN0CSdOpocumM5pDHwrFPWagXe1EHnRpyoNtnAruhisveS6fnGRSN4fJS4Jjv9imklxH9lc3I3CI9w8FLLxetPBCejqTylQwKPze69DU.OUGCbPrYJzODeMW5lZxEC3ohPo20OQQoFSvbsalZr8e_7oTCMp8CqW9O0qbqAhORH3VGlmbPbk1yVBVSpUl.pQnXk6Tq6Mq3ILdNdQUU3sMs1o3ezaiGHGyIHhwEaAc.ki5nvwOx_DjC8XbLX34jGT7zXdMU37S41LEFkFZRpKGqpAe20_Z2udzbFfmHMC8EKZfmIEsoFe2O4g\"};var cpo = document.createElement('script');cpo.src = '/cdn-cgi/challenge-platform/h/g/orchestrate/chl_page/v1?ray=913a613bfbf1d1df';window._cf_chl_opt.cOgUHash = location.hash === '' && location.href.indexOf('#') !== -1 ? '#' : location.hash;window._cf_chl_opt.cOgUQuery = location.search === '' && location.href.slice(0, location.href.length - window._cf_chl_opt.cOgUHash.length).indexOf('?') !== -1 ? '?' : location.search;if (window.history && window.history.replaceState) {var ogU = location.pathname + window._cf_chl_opt.cOgUQuery + window._cf_chl_opt.cOgUHash;history.replaceState(null, null, \"\\/en\\/persons\\/?__cf_chl_rt_tk=dE3Up00eXqxz1GFqt2zVas7Pzydo3T1GDSE2JtMZf.Q-1739843568-1.0.1.1-ke3LH8WokVJgCgRInI1vYpSYreNi18r7x48aCQ4.R1E\" + window._cf_chl_opt.cOgUHash);cpo.onload = function() {history.replaceState(null, null, ogU);}}document.getElementsByTagName('head')[0].appendChild(cpo);}());</script></body></html>\n",
      "<!DOCTYPE html>\n",
      "<html lang=\"en-US\"><head><title>Just a moment...</title><meta content=\"text/html; charset=utf-8\" http-equiv=\"Content-Type\"/><meta content=\"IE=Edge\" http-equiv=\"X-UA-Compatible\"/><meta content=\"noindex,nofollow\" name=\"robots\"/><meta content=\"width=device-width,initial-scale=1\" name=\"viewport\"/><style>*{box-sizing:border-box;margin:0;padding:0}html{line-height:1.15;-webkit-text-size-adjust:100%;color:#313131;font-family:system-ui,-apple-system,BlinkMacSystemFont,Segoe UI,Roboto,Helvetica Neue,Arial,Noto Sans,sans-serif,Apple Color Emoji,Segoe UI Emoji,Segoe UI Symbol,Noto Color Emoji}body{display:flex;flex-direction:column;height:100vh;min-height:100vh}.main-content{margin:8rem auto;max-width:60rem;padding-left:1.5rem}@media (width <= 720px){.main-content{margin-top:4rem}}.h2{font-size:1.5rem;font-weight:500;line-height:2.25rem}@media (width <= 720px){.h2{font-size:1.25rem;line-height:1.5rem}}#challenge-error-text{background-image:url(data:image/svg+xml;base64,PHN2ZyB4bWxucz0iaHR0cDovL3d3dy53My5vcmcvMjAwMC9zdmciIHdpZHRoPSIzMiIgaGVpZ2h0PSIzMiIgZmlsbD0ibm9uZSI+PHBhdGggZmlsbD0iI0IyMEYwMyIgZD0iTTE2IDNhMTMgMTMgMCAxIDAgMTMgMTNBMTMuMDE1IDEzLjAxNSAwIDAgMCAxNiAzbTAgMjRhMTEgMTEgMCAxIDEgMTEtMTEgMTEuMDEgMTEuMDEgMCAwIDEtMTEgMTEiLz48cGF0aCBmaWxsPSIjQjIwRjAzIiBkPSJNMTcuMDM4IDE4LjYxNUgxNC44N0wxNC41NjMgOS41aDIuNzgzem0tMS4wODQgMS40MjdxLjY2IDAgMS4wNTcuMzg4LjQwNy4zODkuNDA3Ljk5NCAwIC41OTYtLjQwNy45ODQtLjM5Ny4zOS0xLjA1Ny4zODktLjY1IDAtMS4wNTYtLjM4OS0uMzk4LS4zODktLjM5OC0uOTg0IDAtLjU5Ny4zOTgtLjk4NS40MDYtLjM5NyAxLjA1Ni0uMzk3Ii8+PC9zdmc+);background-repeat:no-repeat;background-size:contain;padding-left:34px}@media (prefers-color-scheme:dark){body{background-color:#222;color:#d9d9d9}}</style><meta content=\"390\" http-equiv=\"refresh\"/></head><body class=\"no-js\"><div class=\"main-wrapper\" role=\"main\"><div class=\"main-content\"><noscript><div class=\"h2\"><span id=\"challenge-error-text\">Enable JavaScript and cookies to continue</span></div></noscript></div></div><script>(function(){window._cf_chl_opt={cvId: '3',cZone: \"pure.kaist.ac.kr\",cType: 'managed',cRay: '913a613bfbf1d1df',cH: 'mSE9_Y9MHeVpiD_1xtuRBNjXzbEfLSymZ0rdWoBhj3A-1739843568-1.2.1.1-j2CWmdY9SNmmzVvvwboeZLVrZe8204mooHhceEYqAc3lcJl5ybLeYpo5BS_tKZ8W',cUPMDTk: \"\\/en\\/persons\\/?__cf_chl_tk=dE3Up00eXqxz1GFqt2zVas7Pzydo3T1GDSE2JtMZf.Q-1739843568-1.0.1.1-ke3LH8WokVJgCgRInI1vYpSYreNi18r7x48aCQ4.R1E\",cFPWv: 'g',cITimeS: '1739843568',cTTimeMs: '1000',cMTimeMs: '390000',cTplC: 0,cTplV: 5,cTplB: 'cf',cK: \"\",fa: \"\\/en\\/persons\\/?__cf_chl_f_tk=dE3Up00eXqxz1GFqt2zVas7Pzydo3T1GDSE2JtMZf.Q-1739843568-1.0.1.1-ke3LH8WokVJgCgRInI1vYpSYreNi18r7x48aCQ4.R1E\",md: \"NxY9TxGfr7NO947NunkPIriLAO0P6tKhKtHN8rg3zP0-1739843568-1.2.1.1-Zm_4wjNo0ov7K8wAdzIu98Rf.C6KS88qb77pcAf7JCCTbd5aY2RFtQrpHQCY6B.0tT1SiXbTG9amyJKQrm3etWilA57D9UwraAx8o5l3HgO52Dpuay5YOFu_ya0ic2eZ3vizDSXbdoVbAW2bl2fwLuCwg0qzx9ubxsm1Aq52oyYvzv3EQa1yx97meA9po10RlZ8ZyRLFAmG1dRy_7QKJRTvG.WIAcNWWjyYlrN.faQTCJ5W2JfHlJPFAMnHSgLvpyqj6uWhrGyrTMqRGr.Ld.L4.n3SprkV6b3pxkEi2XXtINqfUQsnuJ93kYa1LjKPJGdVwp5477pGNagsxlvjheyTnE.S4cGZ.du_S2ttcQjZpf0EAq1CNTfyDoUoGcuKoVYxOtVTzukvBUrhylKd.jryh33Ky4.qtSusBkxG2I12MosGiJZ1FlyEa8GHiDh.gyE.cZSgRt4Zy4jC9iEIxzNTNwl1T29XwZf9sh37y_u4Jgbx2XqA1k4b1FwBdvwD91KFi3Bq7ExbU4KhIdsSEk8w80COp28jsa_6g9fbP7oXlb_m3r5PzgUsmfN8Nfjp9TrBdMw.sL.WaD5sx6Uj0w80ctgvsDBgssFTIAU3kM.7DP0VZdJQjr0YaEbbjZumUNtw6kKomgCGL_xPhEc02hcd6WHMvu7UfoLReurj_09HumtBnu.VJ93WBoeK0nVNMkBfMsTwubrCrOu5RQ.A1d0SuzSUz4dbbA.Dx8sDYUCmhMZdE1o8Y4bRF7P1xDoNZgA_yTQcg9mfzWGTzuy2Rh.lZhzFUJebRwL4K1SOlyF1xnmlQxE2n2oUwVS3gtGJU8UPA8uDjdt60tdx2soKFV86LedeBAge3YLl7FzNdbbtKH4gycjZ9Q3h6o_UIcJuuuw8.K9J.83ZFgT_TTTP3sLLSe.L_iM7lUhVNao8vFT3x1GIBxhJ7VFRfgzlohSBUE.Mxls6hGBhtmjCJy_zMhpA0Mq3Tj.UAgcBheqOspzjTaahSHmFn8suVGSxpet9nWJOMeHXrBiwSuZZ_MOPzBRExvIA0zZ1hhNIhqA3p2...WByw02DHd6QZCoMrTcUvLFr6yIz_Wrx4evpp.loktIXWGM.LJO9erk1y_D9Vh9vGBB1vgbgfL.4TuvWHbr4c7xNuK.JmijqoCHcUpaz_aHgkU96YsGTXYvBAU7b2gVPZ3wBnVpRm9c1uiDbv98y4dXcY_7ZzQMZp3h4jiobkCUSTTVhIuxYbyU1Q3XRjMA6TWJG1L0IEM43UMYy4z7N.UH4YlW2pn.LvVSbgZyHzJSrk46C8BMwbX1qrkSXcTxQumfN.Wm4mftCD99KT6O2Uapo9.Tus.SkYJKTA7I5Af4lQqS80ICdfCLQ3WooNdO7Zwky7zRTwA27IrBLQg6aB0tKVShcc31Ws4ox3SJqrklXnfhjgPQbFwG8gUMozCO_DcxrM53I2BsEmOGBeFcDsflLL43uJESk.nEm.WROYLXnvR6_E8oCUp8QQq7T8.2U9RX8tGWJmvEjrp_MHnxeD26KAVmVblNwcn0I1f_IM48NCINkIRjYvd1TuKoadJSH2PTxmW3l9NSbR23tjOr1BIsgyPyoBwquc2CxJPtLLyYoqMF5v_BkpqUZaO1iB7S4OwlR7dB5Jfr0hkFPvsQHm1U.HoZhBtxeUdbOhyvc9MhEwk9RURdpCXe1ZXcHCqPScF6ltQo.04Sij9EmgrcL9JhAXRzpmlmwP3uOMPVgvsJc2VN3kfZE5YlFZ7aP_zIlkXVue4L2DlSzsYupwam_wpZ85FznJJXVJq.vcjY3gt7CmFqbHOh7XMzsygPlm_rUTo.BYJ6cGPisF_PFgIGQdqE8YeGy44mZBuyZhrYWU.vGD7rqJngDHAtzAEv3hYRUVfqQNZefjJ4PHbN_lpHcQK3pWm3X9YqfrH8In8i9_u2P8lq1QXP0mAc3Gwyz5NJUtcGd0qO0oufMh.Pcura0BgKTgg_7jqnhaxEgOAMzRSJNr3_mIfxmjBPyNMMyjxr0ER4H87qL73W4rouMjXVjdWxlBtAj5Kb9RLQaJj7t9tP69gB4zwr4iXls7C2nt2brY8Zsq35hDcEjdI1rr9lg6K.i1Q2FM1t9.IPXwvma43yf9cVUA0Jli2qQdWsdOxOQn4gJa83.sMpnmGwq1Jnr9nkaQClILeKGIEbdOhS1IE7MXHupH7kETpVZ0X1Z0Rpr7Oi4eOkbmCmXMaSCXfLfAmrjAv5Yx0ZPG7_yFyeEr_dVmiw7_DMofPrk2jQ1OR9DArIsYBGicQHHGjlwYN8DT9o3H4EQ76RWVfBvo47svjgphKhtHJSSEH.M8jaPdshvs.tgOvVU7wonfWrFVsmEojDngRREfPybmRFskxcdtCU0PU3aSIjHPJn3VA_wgdAp2oJFhU.J7QytnqSx.E7vcGSXLfD3WTWqBan7w0u7TE4FJeoWWIoAPzXKIuVOM5bMq3wZP4jgrMUS9kV_V16f7\",mdrd: \"FZJFNdbJhoDqVLDRTJnTerZnFPUHuIHagveuoXnTgYI-1739843568-1.2.1.1-AsF6Joda7K7V74d.NctvD60SQeeytU2NtfYbFaIUohnAERPgDSJHbtF4TxuuaYEqrjpOyGQuZMO4ylIu.ViNwAgfs7sWBrJ4uKdkNsT_wDuozsl1hpn_TQ_Y1v2BTAwkbQ.JGUmEY8pw5YyCGNssFJi4OvIc6kwr5VPs90k6eCKVXtlDWYjhTblfxcmtpnI3idXEOlVx6z8JfEa7yVj11FfWQKsPAY3bZNNmxMPzKWP.OzdT9unKMuaA2ZnVpa5GTn_sf28aTSARb8W3E3.ZVioKvW4RfUa_BR2DsccTWWV3Dis3NjvDERV0Xn.ey1bNgnqdhNSevSLXG8oHdUaAFUJfLBCGtGS7i.48ppHy_KOFat6jUIUNXGHbI2NBp4dj4d7Qf0NOGWtV_uBBOwfeHG3Dbrp9fXpSt1GufgYTodr71oZ.GecS8Ki4rxrGRpJL7S95b0.XpBbiDDKjvBJ3TYkqYVxuqek2h8mDX4QKiL1JqGQ8wckrCZ6m0bY6FuIEzCBSdg7nKWpC2kdwVWLTHQdSQ8j0OrGFoMTRfxYyMXB9nkJ52EOazI3WdLwrCNmYdhiaWS5474evKgGouanxZj1nK4PegZSbSBzOpPVSbDejWhXaBwBkgamRULTymbJ1cRulRNwvFy229xcLWagTxD_8BM4qp6yo1eiwf1r62gQu8..ZnLAxr1VTn4oitBcWFxtoNdbVtWJJi8uuEgscsa2LoMsnDV6AqPH5TfhN3XKhjIzFBbExy1khNUDN43tmTO47RUEY_ONCaCS0fXobQ.vYkyb.coPcIH4O6ypkdPtDqwnvnQ92M9T.oBWq1ppZGGiTQrEoiVHvaU1lbKEwJoPWvx25wB0BqgOntu74q9p3KqH45FPMN6ph98nD_FsS7wKz2CCbTZWZ7.1sof69.UZIpn09gC28.42n_Cq3rb3OE9XeZQCEThLY8zA9vKwjcvaQJrtAqAdIY29t_xfe8D6ZlwTKJbIW3EokwpUyBz6wNfIo2dFBx5SQzQN9oEP8EhI0dWC31oSvk6_d_cDJBqHwIds4K320O4C6c8LC6eqUCJ6u6F0iJtXE19HTiToo7ICn3Z91oM_WAEkKi2GOucUi.W_Asr1hutoiEA0f.RctoVnBQaTFSANH8tJsz7pf5BWwO5MTSR3GrBtEg.o3yK49jHcoUzxzsSxyfU3mGIN3KoQYRLqep5O0icqnyWWQo424wCn0lvZKjni9PfBolLtH4T2lbg.WRrkx_q9WiOizQtuJ42x_Ki_gWBWHIzLXyajFQY9UOSQDu_DCrWXZ3PiGuPC.XuUoD3M3zCoOWEHz8DBFItQb2bkB4gSo3alLjtZqpsvheyJkuaV..fGZycCKDSrmoysvKA80_8QDD7QtqkhlLeZl7Ya7x6pUNuDGKA3sRFWx6ePqLKEoL2MTYpsxsL.wv0Ljjdw_UAikARcajo64n1w7eyvBcnb_ExYa_1om6FvE2NnC5YXaWF8VugyqgxtxOJVkOGJZkAaZBqxKJhi1oQc3Fvk8AH45WkGGB.vWFojIgcFhKPnEDAPAY5oW_0NoTrDIPdNdZn8UTEkcI7k_2iUzAWpU55B5sFEp2G0Sne13KCAp55NJ.dCTE_RmL_pVDpJfZD5slwqBTMdeAofaotFicpd8qJ8.n7y2lnbQzh88bi6zGpoJDEYKVbSPOWlZtaTV_JhSkWpuGzTmXnozVYpXS_EMU5Aqv7vr0XrBpiNytMRSOYB5Xd4N.0TZpwsGxqQiw84osyh49VabznVDRIuarwEYGO1q8forCb5vHlWc0LDzhKjbAU75QpodvSMBPSBRtFiaTI15Rl5CSMlo8NGe51uljZGUYFrNsdHQuyEMsIzbNhR_G_YoLofzygFqGADpQuo1ZwqtvfK_OcQ7GkMWgzk6RGp6MREhQbBzXuaOAMGrJYegjf3kAkcpQZe6YX.oEtxGXyyjfRSx2eC4kCc5zvzsVKHbc07Abu4c_dBO.SlcTYOeXt_iChlOTy3WhLLcDMFIZOoVievkc89TzcwGlJASmE1ewNx.bWFhUsD.YRqDFJeovlN8UmN2v3N1kXQZN0CSdOpocumM5pDHwrFPWagXe1EHnRpyoNtnAruhisveS6fnGRSN4fJS4Jjv9imklxH9lc3I3CI9w8FLLxetPBCejqTylQwKPze69DU.OUGCbPrYJzODeMW5lZxEC3ohPo20OQQoFSvbsalZr8e_7oTCMp8CqW9O0qbqAhORH3VGlmbPbk1yVBVSpUl.pQnXk6Tq6Mq3ILdNdQUU3sMs1o3ezaiGHGyIHhwEaAc.ki5nvwOx_DjC8XbLX34jGT7zXdMU37S41LEFkFZRpKGqpAe20_Z2udzbFfmHMC8EKZfmIEsoFe2O4g\"};var cpo = document.createElement('script');cpo.src = '/cdn-cgi/challenge-platform/h/g/orchestrate/chl_page/v1?ray=913a613bfbf1d1df';window._cf_chl_opt.cOgUHash = location.hash === '' && location.href.indexOf('#') !== -1 ? '#' : location.hash;window._cf_chl_opt.cOgUQuery = location.search === '' && location.href.slice(0, location.href.length - window._cf_chl_opt.cOgUHash.length).indexOf('?') !== -1 ? '?' : location.search;if (window.history && window.history.replaceState) {var ogU = location.pathname + window._cf_chl_opt.cOgUQuery + window._cf_chl_opt.cOgUHash;history.replaceState(null, null, \"\\/en\\/persons\\/?__cf_chl_rt_tk=dE3Up00eXqxz1GFqt2zVas7Pzydo3T1GDSE2JtMZf.Q-1739843568-1.0.1.1-ke3LH8WokVJgCgRInI1vYpSYreNi18r7x48aCQ4.R1E\" + window._cf_chl_opt.cOgUHash);cpo.onload = function() {history.replaceState(null, null, ogU);}}document.getElementsByTagName('head')[0].appendChild(cpo);}());</script></body></html>\n",
      "[]\n"
     ]
    }
   ],
   "source": [
    "import requests\n",
    "from bs4 import BeautifulSoup\n",
    "import json\n",
    "def get_kaist_pure_data():\n",
    "    url = 'https://pure.kaist.ac.kr/en/persons/'\n",
    "    headers = {\n",
    "        'accept': 'text/html,application/xhtml+xml,application/xml;q=0.9,image/avif,image/webp,image/apng,*/*;q=0.8,application/signed-exchange;v=b3;q=0.7',\n",
    "        'accept-language': 'ko,en-US;q=0.9,en;q=0.8',\n",
    "        'user-agent': 'Mozilla/5.0 (Macintosh; Intel Mac OS X 10_15_7) AppleWebKit/537.36 (KHTML, like Gecko) Chrome/133.0.0.0 Safari/537.36'\n",
    "    }\n",
    "\n",
    "    response = requests.get(url, headers=headers)\n",
    "    print(response.text)\n",
    "    soup = BeautifulSoup(response.text, 'html.parser')\n",
    "\n",
    "    print(soup)\n",
    "    researchers = []\n",
    "    for item in soup.select('.grid-result-item'):\n",
    "        researcher = {}\n",
    "        \n",
    "        # Basic info\n",
    "        name_elem = item.select_one('.rendering_person .title span')\n",
    "        if name_elem:\n",
    "            researcher['name'] = name_elem.text.strip()\n",
    "            \n",
    "        profile_elem = item.select_one('.rendering_person .title a')\n",
    "        if profile_elem:\n",
    "            researcher['profile_url'] = profile_elem['href']\n",
    "        \n",
    "        # Profile image\n",
    "        img_elem = item.select_one('img')\n",
    "        if img_elem:\n",
    "            researcher['image_url'] = img_elem['src']\n",
    "            researcher['image_alt'] = img_elem['alt']\n",
    "        \n",
    "        # Email (if available)\n",
    "        email_elem = item.select_one('.email a')\n",
    "        if email_elem:\n",
    "            # Handle encrypted email format\n",
    "            email_parts = []\n",
    "            for part in email_elem.stripped_strings:\n",
    "                email_parts.append(part.strip())\n",
    "            researcher['email'] = ''.join(email_parts)\n",
    "            \n",
    "        # Organization\n",
    "        org_elem = item.select_one('.organisations a span')\n",
    "        if org_elem:\n",
    "            researcher['organization'] = org_elem.text.strip()\n",
    "            \n",
    "        # Person type\n",
    "        type_elem = item.select_one('.type span.family')\n",
    "        if type_elem:\n",
    "            researcher['type'] = type_elem.text.replace('Person: ', '').strip()\n",
    "            \n",
    "        # Research output trend\n",
    "        trend_data = {}\n",
    "        trend_graph = item.select_one('.stacked-trend-graph')\n",
    "        if trend_graph:\n",
    "            for bar in trend_graph.select('.trend-bar-stacked'):\n",
    "                info = bar['data-graph-info']\n",
    "                year = info.split(':')[0].split()[-1]\n",
    "                count = int(info.split(':')[1].strip())\n",
    "                trend_data[year] = count\n",
    "                \n",
    "        researcher['research_output'] = trend_data\n",
    "        \n",
    "        researchers.append(researcher)\n",
    "        \n",
    "    return researchers\n",
    "\n",
    "# Execute and print results\n",
    "researchers = get_kaist_pure_data()\n",
    "print(json.dumps(researchers, indent=2))"
   ]
  },
  {
   "cell_type": "code",
   "execution_count": null,
   "metadata": {},
   "outputs": [],
   "source": [
    "## pure는 http로 보낼때 복호화함."
   ]
  },
  {
   "cell_type": "code",
   "execution_count": null,
   "metadata": {},
   "outputs": [],
   "source": []
  },
  {
   "cell_type": "code",
   "execution_count": null,
   "metadata": {},
   "outputs": [],
   "source": []
  }
 ],
 "metadata": {
  "kernelspec": {
   "display_name": ".venv",
   "language": "python",
   "name": "python3"
  },
  "language_info": {
   "codemirror_mode": {
    "name": "ipython",
    "version": 3
   },
   "file_extension": ".py",
   "mimetype": "text/x-python",
   "name": "python",
   "nbconvert_exporter": "python",
   "pygments_lexer": "ipython3",
   "version": "3.11.7"
  }
 },
 "nbformat": 4,
 "nbformat_minor": 2
}
